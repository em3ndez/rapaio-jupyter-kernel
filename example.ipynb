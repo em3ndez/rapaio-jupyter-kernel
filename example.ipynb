{
 "cells": [
  {
   "cell_type": "markdown",
   "metadata": {},
   "source": [
    "# Java Jupyter notebook example\n",
    "You can write normal Java."
   ]
  },
  {
   "cell_type": "code",
   "execution_count": 1,
   "metadata": {
    "is_executing": true,
    "tags": []
   },
   "outputs": [
    {
     "data": {
      "text/plain": [
       "4"
      ]
     },
     "execution_count": 1,
     "metadata": {},
     "output_type": "execute_result"
    }
   ],
   "source": [
    "var result = 2 + 2;\n",
    "result"
   ]
  },
  {
   "cell_type": "code",
   "execution_count": 2,
   "metadata": {
    "tags": []
   },
   "outputs": [
    {
     "data": {
      "text/plain": [
       "Complex[a=11.0, b=21.0]"
      ]
     },
     "execution_count": 2,
     "metadata": {},
     "output_type": "execute_result"
    }
   ],
   "source": [
    "// including classes\n",
    "record Complex(double a, double b) {\n",
    "    public Complex add(Complex c) {\n",
    "        return new Complex(a+c.a, b+c.b);\n",
    "    }\n",
    "}\n",
    "Complex x = new Complex(10,20);\n",
    "x.add(new Complex(1,1))"
   ]
  },
  {
   "cell_type": "code",
   "execution_count": 3,
   "metadata": {
    "tags": []
   },
   "outputs": [
    {
     "data": {
      "text/plain": [
       "5"
      ]
     },
     "execution_count": 3,
     "metadata": {},
     "output_type": "execute_result"
    }
   ],
   "source": [
    "// methods can also be implemented\n",
    "int add(int a, int b) { return a+b; }\n",
    "add(2,3)"
   ]
  },
  {
   "cell_type": "markdown",
   "metadata": {
    "tags": []
   },
   "source": [
    "# Magic commands"
   ]
  },
  {
   "cell_type": "markdown",
   "metadata": {
    "tags": []
   },
   "source": [
    "Besides Java code, a cell can contain special commands implemented by the kernel. These are called magic code and there are two types: magic lines and magic cells. \n",
    "\n",
    "**Magic lines** are lines which are prefixed with `%`. After the prefix it is followed by the magic command and the optional parameters. Below is an example of magic line:"
   ]
  },
  {
   "cell_type": "code",
   "execution_count": 4,
   "metadata": {
    "tags": []
   },
   "outputs": [
    {
     "data": {
      "text/plain": [
       "\u001b[0m\u001b[0m\u001b[1;30m|    record Complex\u001b[0m\u001b[0m\n"
      ]
     },
     "execution_count": 4,
     "metadata": {},
     "output_type": "execute_result"
    }
   ],
   "source": [
    "// magic line which asks JShell to list the types defined in this notebook in this moment\n",
    "%jshell /types"
   ]
  },
  {
   "cell_type": "markdown",
   "metadata": {
    "tags": []
   },
   "source": [
    "**Magic cells** are similar with magic lines, but it takes as parameters the following lines. Thus the magic cells should stay in a separate cells. Below is an example of magic cell:"
   ]
  },
  {
   "cell_type": "code",
   "execution_count": 5,
   "metadata": {
    "tags": []
   },
   "outputs": [
    {
     "name": "stdout",
     "output_type": "stream",
     "text": [
      "Distributor ID:\tUbuntu\n",
      "Description:\tUbuntu 22.04.5 LTS\n",
      "Release:\t22.04\n",
      "Codename:\tjammy\n"
     ]
    },
    {
     "name": "stderr",
     "output_type": "stream",
     "text": [
      "No LSB modules are available.\n"
     ]
    }
   ],
   "source": [
    "// call a bash command which lists the Linux variant that is used\n",
    "%%bash\n",
    "lsb_release -a"
   ]
  },
  {
   "cell_type": "markdown",
   "metadata": {
    "tags": []
   },
   "source": [
    "## Magic commands interpolation\n",
    "\n",
    "Sometimes there is a need to run a magic command in a more dynamic way. This can be done using magic interpolation.\n",
    "\n",
    "Magic interpolation is the interpolation of marked content which starts with `\\{` and ends with `}`. Any content decorated with those markers is evaluated in jshell and the result is transformed in a String which replaces the decorated content in the magic command."
   ]
  },
  {
   "cell_type": "code",
   "execution_count": 6,
   "metadata": {
    "tags": []
   },
   "outputs": [],
   "source": [
    "String version = \"1.0.2\";"
   ]
  },
  {
   "cell_type": "code",
   "execution_count": 7,
   "metadata": {
    "tags": []
   },
   "outputs": [
    {
     "name": "stdout",
     "output_type": "stream",
     "text": [
      "Adding dependency \u001b[0m\u001b[1m\u001b[32mcom.github.javafaker:javafaker:1.0.2\n",
      "\u001b[0m"
     ]
    }
   ],
   "source": [
    "%dependency /add com.github.javafaker:javafaker:\\{version}"
   ]
  },
  {
   "cell_type": "markdown",
   "metadata": {
    "tags": []
   },
   "source": [
    "Magic interpolation can go with any content after `%` or `%%` like in the following:"
   ]
  },
  {
   "cell_type": "code",
   "execution_count": 8,
   "metadata": {
    "tags": []
   },
   "outputs": [],
   "source": [
    "String module = \"dependency\";\n",
    "String cmd = \"/add\";\n",
    "String group = \"com.github.javafaker\";\n",
    "String artifact = \"javafaker\";"
   ]
  },
  {
   "cell_type": "code",
   "execution_count": 9,
   "metadata": {
    "tags": []
   },
   "outputs": [
    {
     "name": "stdout",
     "output_type": "stream",
     "text": [
      "Adding dependency \u001b[0m\u001b[1m\u001b[32mcom.github.javafaker:javafaker:1.0.2\n",
      "\u001b[0m"
     ]
    }
   ],
   "source": [
    "%\\{module} \\{cmd} \\{group}:\\{artifact}:\\{version}"
   ]
  },
  {
   "cell_type": "markdown",
   "metadata": {
    "tags": []
   },
   "source": [
    "If one wants to avoid interpreting something like `\\{` not as an interpolation started than it should be escaped with another `\\`."
   ]
  },
  {
   "cell_type": "code",
   "execution_count": 10,
   "metadata": {
    "tags": []
   },
   "outputs": [],
   "source": [
    "String types = \"/types\";"
   ]
  },
  {
   "cell_type": "code",
   "execution_count": 11,
   "metadata": {
    "tags": []
   },
   "outputs": [
    {
     "data": {
      "text/plain": [
       "\u001b[0m\u001b[0m\u001b[1;30m|    record Complex\u001b[0m\u001b[0m\n"
      ]
     },
     "execution_count": 11,
     "metadata": {},
     "output_type": "execute_result"
    }
   ],
   "source": [
    "%jshell \\{types}"
   ]
  },
  {
   "cell_type": "code",
   "execution_count": 12,
   "metadata": {
    "tags": []
   },
   "outputs": [
    {
     "ename": "MagicEvalException",
     "evalue": "Command not executed either because there is no handler or due to a syntax error.",
     "output_type": "error",
     "traceback": [
      "\u001b[0m\u001b[1m\u001b[31mMagicEvalException:\u001b[0m",
      "\u001b[0m\u001b[1m\u001b[34mCommand not executed either because there is no handler or due to a syntax error.\u001b[0m"
     ]
    }
   ],
   "source": [
    "%jshell \\\\{types}"
   ]
  },
  {
   "cell_type": "markdown",
   "metadata": {},
   "source": [
    "## Dependency management\n",
    "\n",
    "You can add dependencies using `%dependency /add` and after adding all dependencies you can call `%dependency /resolve`"
   ]
  },
  {
   "cell_type": "code",
   "execution_count": 13,
   "metadata": {
    "editable": true,
    "slideshow": {
     "slide_type": ""
    },
    "tags": []
   },
   "outputs": [
    {
     "name": "stdout",
     "output_type": "stream",
     "text": [
      "Adding dependency \u001b[0m\u001b[1m\u001b[32mcom.github.javafaker:javafaker:1.0.2\n",
      "\u001b[0mSolving dependencies\n",
      "Resolved artifacts count: 5\n",
      "Add to classpath: \u001b[0m\u001b[32m/home/ANT.AMAZON.COM/tutuianu/.local/share/jupyter/kernels/rapaio-jupyter-kernel/mima_cache/com/github/javafaker/javafaker/1.0.2/javafaker-1.0.2.jar\u001b[0m\n",
      "\u001b[0mAdd to classpath: \u001b[0m\u001b[32m/home/ANT.AMAZON.COM/tutuianu/.local/share/jupyter/kernels/rapaio-jupyter-kernel/mima_cache/org/apache/commons/commons-lang3/3.5/commons-lang3-3.5.jar\u001b[0m\n",
      "\u001b[0mAdd to classpath: \u001b[0m\u001b[32m/home/ANT.AMAZON.COM/tutuianu/.local/share/jupyter/kernels/rapaio-jupyter-kernel/mima_cache/org/yaml/snakeyaml/1.23/snakeyaml-1.23-android.jar\u001b[0m\n",
      "\u001b[0mAdd to classpath: \u001b[0m\u001b[32m/home/ANT.AMAZON.COM/tutuianu/.local/share/jupyter/kernels/rapaio-jupyter-kernel/mima_cache/com/github/mifmif/generex/1.0.2/generex-1.0.2.jar\u001b[0m\n",
      "\u001b[0mAdd to classpath: \u001b[0m\u001b[32m/home/ANT.AMAZON.COM/tutuianu/.local/share/jupyter/kernels/rapaio-jupyter-kernel/mima_cache/dk/brics/automaton/automaton/1.11-8/automaton-1.11-8.jar\u001b[0m\n",
      "\u001b[0m"
     ]
    }
   ],
   "source": [
    "%dependency /add com.github.javafaker:javafaker:1.0.2\n",
    "%dependency /resolve"
   ]
  },
  {
   "cell_type": "markdown",
   "metadata": {
    "editable": true,
    "slideshow": {
     "slide_type": ""
    },
    "tags": []
   },
   "source": [
    "When added you can import and use the dependency."
   ]
  },
  {
   "cell_type": "code",
   "execution_count": 14,
   "metadata": {
    "tags": []
   },
   "outputs": [
    {
     "data": {
      "text/plain": [
       "Allan Kemmer"
      ]
     },
     "execution_count": 14,
     "metadata": {},
     "output_type": "execute_result"
    }
   ],
   "source": [
    "import com.github.javafaker.Faker;\n",
    "var faker = new Faker();\n",
    "faker.name().fullName()"
   ]
  },
  {
   "cell_type": "markdown",
   "metadata": {},
   "source": [
    "## Resolving conflict dependencies\n",
    "\n",
    "You there are conflicts you can manage them with optional. Let's take an example which have conflicts:"
   ]
  },
  {
   "cell_type": "code",
   "execution_count": 15,
   "metadata": {},
   "outputs": [
    {
     "name": "stdout",
     "output_type": "stream",
     "text": [
      "Adding dependency \u001b[0m\u001b[1m\u001b[32mcom.google.guava:guava:20.0\n",
      "\u001b[0mAdding dependency \u001b[0m\u001b[1m\u001b[32mcom.google.inject:guice:4.2.2\n",
      "\u001b[0mAdding dependency \u001b[0m\u001b[1m\u001b[32mcom.google.guava:guava:25.1-android\n",
      "\u001b[0mSolving dependencies\n",
      "Resolved artifacts count: 9\n",
      "Add to classpath: \u001b[0m\u001b[32m/home/ANT.AMAZON.COM/tutuianu/.local/share/jupyter/kernels/rapaio-jupyter-kernel/mima_cache/com/google/inject/guice/4.2.2/guice-4.2.2.jar\u001b[0m\n",
      "\u001b[0mAdd to classpath: \u001b[0m\u001b[32m/home/ANT.AMAZON.COM/tutuianu/.local/share/jupyter/kernels/rapaio-jupyter-kernel/mima_cache/javax/inject/javax.inject/1/javax.inject-1.jar\u001b[0m\n",
      "\u001b[0mAdd to classpath: \u001b[0m\u001b[32m/home/ANT.AMAZON.COM/tutuianu/.local/share/jupyter/kernels/rapaio-jupyter-kernel/mima_cache/aopalliance/aopalliance/1.0/aopalliance-1.0.jar\u001b[0m\n",
      "\u001b[0mAdd to classpath: \u001b[0m\u001b[32m/home/ANT.AMAZON.COM/tutuianu/.local/share/jupyter/kernels/rapaio-jupyter-kernel/mima_cache/com/google/guava/guava/25.1-android/guava-25.1-android.jar\u001b[0m\n",
      "\u001b[0mAdd to classpath: \u001b[0m\u001b[32m/home/ANT.AMAZON.COM/tutuianu/.local/share/jupyter/kernels/rapaio-jupyter-kernel/mima_cache/com/google/code/findbugs/jsr305/3.0.2/jsr305-3.0.2.jar\u001b[0m\n",
      "\u001b[0mAdd to classpath: \u001b[0m\u001b[32m/home/ANT.AMAZON.COM/tutuianu/.local/share/jupyter/kernels/rapaio-jupyter-kernel/mima_cache/org/checkerframework/checker-compat-qual/2.0.0/checker-compat-qual-2.0.0.jar\u001b[0m\n",
      "\u001b[0mAdd to classpath: \u001b[0m\u001b[32m/home/ANT.AMAZON.COM/tutuianu/.local/share/jupyter/kernels/rapaio-jupyter-kernel/mima_cache/com/google/errorprone/error_prone_annotations/2.1.3/error_prone_annotations-2.1.3.jar\u001b[0m\n",
      "\u001b[0mAdd to classpath: \u001b[0m\u001b[32m/home/ANT.AMAZON.COM/tutuianu/.local/share/jupyter/kernels/rapaio-jupyter-kernel/mima_cache/com/google/j2objc/j2objc-annotations/1.1/j2objc-annotations-1.1.jar\u001b[0m\n",
      "\u001b[0mAdd to classpath: \u001b[0m\u001b[32m/home/ANT.AMAZON.COM/tutuianu/.local/share/jupyter/kernels/rapaio-jupyter-kernel/mima_cache/org/codehaus/mojo/animal-sniffer-annotations/1.14/animal-sniffer-annotations-1.14.jar\u001b[0m\n",
      "\u001b[0m"
     ]
    }
   ],
   "source": [
    "%dependency /add com.google.guava:guava:20.0 --optional\n",
    "%dependency /add com.google.inject:guice:4.2.2\n",
    "%dependency /add com.google.guava:guava:25.1-android\n",
    "%dependency /resolve"
   ]
  },
  {
   "cell_type": "markdown",
   "metadata": {},
   "source": [
    "## Help on magic commands\n",
    "\n",
    "The magic `%help` provides more examples and guidance. "
   ]
  },
  {
   "cell_type": "code",
   "execution_count": 16,
   "metadata": {
    "tags": []
   },
   "outputs": [
    {
     "data": {
      "text/plain": [
       "\u001b[0m\u001b[1m\u001b[34mInformation about registered magic handlers.\n",
       "\u001b[0m\u001b[0m\n",
       "\u001b[0m\u001b[1m\u001b[34mJShell commands\u001b[0m\u001b[0m\n",
       "\u001b[0m\u001b[1mDocumentation:\n",
       "\u001b[0m    Magic handler which runs command against JShell REPL and displays the results.\n",
       "    Not all JShell commands are implemented, since some of them does not make sense with notebooks (for example edit cell is handled simply by editing the corresponding code cell and run).\n",
       "\u001b[0m\u001b[1mSyntax:\n",
       "\u001b[0m    \u001b[0m\u001b[1m\u001b[32m%jshell /methods\u001b[0m\n",
       "    List all active methods.\n",
       "    \u001b[0m\u001b[1m\u001b[32m%jshell /vars\u001b[0m\n",
       "    List all active variables, with type and value.\n",
       "    \u001b[0m\u001b[1m\u001b[32m%jshell /imports\u001b[0m\n",
       "    List all active import statements.\n",
       "    \u001b[0m\u001b[1m\u001b[32m%jshell /types\u001b[0m\n",
       "    List all active types: classes, interfaces, enums and annotations.\n",
       "    \u001b[0m\u001b[1m\u001b[32m%jshell /list -all\u001b[0m\n",
       "    List all code snippets, either active, inactive or erroneous.\n",
       "    \u001b[0m\u001b[1m\u001b[32m%jshell /list [id]\u001b[0m\n",
       "    List snippet with the given id.\n",
       "    \u001b[0m\u001b[1m\u001b[32m%jshell /list\u001b[0m\n",
       "    List all active code snippets.\n",
       "\n",
       "\u001b[0m\u001b[1m\u001b[34mDependency manager\u001b[0m\u001b[0m\n",
       "\u001b[0m\u001b[1mDocumentation:\n",
       "\u001b[0m    Find and resolve a dependency using coordinates: group_id, artifact_id and version id.\n",
       "    The maven public repositories are searched for dependencies. Additionally, any maven transitive dependency declared with magic handlers are included in classpath.\n",
       "\u001b[0m\u001b[1mSyntax:\n",
       "\u001b[0m    \u001b[0m\u001b[1m\u001b[32m%dependency /list-repos\u001b[0m\n",
       "    List all repositories\n",
       "    \u001b[0m\u001b[1m\u001b[32m%dependency /add-repo name url[ release|update-policy]?[ snapshot|update-policy]?\u001b[0m\n",
       "    Add Maven Repository using a name and an url. Optional parameters are available. \n",
       "    Release enabled is obtained by specifying release|update-policy.\n",
       "    Update policy can be: never/always/daily/interval.\n",
       "    Snapshot enabled is obtained by specified snapshot|update-policy.\n",
       "    Update policy can be: never/always/daily/interval.\n",
       "    If any flag is not specified we have the following default options:\n",
       "     - release enabled with never, snapshot enabled with never for repos with url starting with file://\n",
       "     - release enabled with never, snapshot disabled for repos with url not starting with file://\n",
       "    \u001b[0m\u001b[1m\u001b[32m%dependency /list-dependencies\u001b[0m\n",
       "    List proposed and resolved dependencies\n",
       "    \u001b[0m\u001b[1m\u001b[32m%dependency /list-artifacts\u001b[0m\n",
       "    List artifacts loaded after the last dependency resolve\n",
       "    \u001b[0m\u001b[1m\u001b[32m%dependency /resolve\u001b[0m\n",
       "    Resolve dependencies\n",
       "    \u001b[0m\u001b[1m\u001b[32m%dependency /add groupId:artifactId[:extension[:classifier]]:version\u001b[0m\n",
       "    \u001b[0m\u001b[1m\u001b[32m%dependency /add groupId:artifactId[:extension[:classifier]]:version --optional\u001b[0m\n",
       "    Declares a dependency to the current notebook. Artifact's extension (default value jar) and classifier (default value is empty string) values are optional.\n",
       "\n",
       "\u001b[0m\u001b[1m\u001b[34mJar magic handler\u001b[0m\u001b[0m\n",
       "\u001b[0m\u001b[1mDocumentation:\n",
       "\u001b[0m    Jar magic handler allows adding to the current classpath a local jar file or all the jar files from a given directory.\n",
       "\u001b[0m\u001b[1mSyntax:\n",
       "\u001b[0m    \u001b[0m\u001b[1m\u001b[32m%jar path_to_jar_or_folder_of_jars\u001b[0m\n",
       "    Adds to the classpath a jar or all jar archives from a directory\n",
       "    \u001b[0m\u001b[1m\u001b[32m%%jars\u001b[0m\n",
       "    \u001b[0m\u001b[1m\u001b[32mjar_file_or_folder_1\u001b[0m\n",
       "    \u001b[0m\u001b[1m\u001b[32m[jar_file_or_folder_2]\u001b[0m\n",
       "    \u001b[0m\u001b[1m\u001b[32m...\u001b[0m\n",
       "    \u001b[0m\u001b[1m\u001b[32m[jar_file_or_folder_n]\u001b[0m\n",
       "    Adds to classpath all referenced jars or all jar files from referenced directories.\n",
       "\n",
       "\u001b[0m\u001b[1m\u001b[34mLoad\u001b[0m\u001b[0m\n",
       "\u001b[0m\u001b[1mDocumentation:\n",
       "\u001b[0m    Loads and executes a local jshell script file or a jupyter notebook for java language.\n",
       "\u001b[0m\u001b[1mSyntax:\n",
       "\u001b[0m    \u001b[0m\u001b[1m\u001b[32m%load path_to_script_or_notebook\u001b[0m\n",
       "    \n",
       "\n",
       "\u001b[0m\u001b[1m\u001b[34mImage\u001b[0m\u001b[0m\n",
       "\u001b[0m\u001b[1mDocumentation:\n",
       "\u001b[0m    Displays an image from a file or URL.\n",
       "\u001b[0m\u001b[1mSyntax:\n",
       "\u001b[0m    \u001b[0m\u001b[1m\u001b[32m%image path_to_file_or_url\u001b[0m\n",
       "    Display an image from a local file or from an URL\n",
       "\n",
       "\u001b[0m\u001b[1m\u001b[34mClasspath\u001b[0m\u001b[0m\n",
       "\u001b[0m\u001b[1mDocumentation:\n",
       "\u001b[0m    Magic handler which allows one to add to classpath directories with compiled code.\n",
       "\u001b[0m\u001b[1mSyntax:\n",
       "\u001b[0m    \u001b[0m\u001b[1m\u001b[32m%classpath path_to_folder_with_classes\u001b[0m\n",
       "    Adds to classpath folder which contains class files\n",
       "\n",
       "\u001b[0m\u001b[1m\u001b[34mBash\u001b[0m\u001b[0m\n",
       "\u001b[0m\u001b[1mDocumentation:\n",
       "\u001b[0m    Executes command line in a bash shell.\n",
       "\u001b[0m\u001b[1mSyntax:\n",
       "\u001b[0m    \u001b[0m\u001b[1m\u001b[32m%%bash\u001b[0m\n",
       "    \u001b[0m\u001b[1m\u001b[32mbash script\u001b[0m\n",
       "    Executes the following lines in a terminal.\n",
       "\n",
       "\u001b[0m\u001b[1m\u001b[34mHelp\u001b[0m\u001b[0m\n",
       "\u001b[0m\u001b[1mDocumentation:\n",
       "\u001b[0m    Magic which displays help for all the magic tools.\n",
       "\u001b[0m\u001b[1mSyntax:\n",
       "\u001b[0m    \u001b[0m\u001b[1m\u001b[32m%help\u001b[0m\n",
       "    Display help for all magic handlers.\n"
      ]
     },
     "execution_count": 16,
     "metadata": {},
     "output_type": "execute_result"
    }
   ],
   "source": [
    "%help"
   ]
  },
  {
   "cell_type": "markdown",
   "metadata": {
    "tags": []
   },
   "source": [
    "## JShell commands\n",
    "\n",
    "Some JShell commands are implemented. For example you can inspect which variables are defined"
   ]
  },
  {
   "cell_type": "code",
   "execution_count": 17,
   "metadata": {
    "tags": []
   },
   "outputs": [
    {
     "data": {
      "text/plain": [
       "\u001b[0m|    \u001b[1mint \u001b[32mresult\u001b[0m = \u001b[0m4\n",
       "\u001b[0m\u001b[0m|    \u001b[1mComplex \u001b[32mx\u001b[0m = \u001b[0mComplex[a=10.0, b=20.0]\n",
       "\u001b[0m\u001b[0m|    \u001b[1mComplex \u001b[32m$1\u001b[0m = \u001b[0mComplex[a=11.0, b=21.0]\n",
       "\u001b[0m\u001b[0m|    \u001b[1mint \u001b[32m$2\u001b[0m = \u001b[0m5\n",
       "\u001b[0m\u001b[0m|    \u001b[1mString \u001b[32mversion\u001b[0m = \u001b[0m\"1.0.2\"\n",
       "\u001b[0m\u001b[0m|    \u001b[1mString \u001b[32mmodule\u001b[0m = \u001b[0m\"dependency\"\n",
       "\u001b[0m\u001b[0m|    \u001b[1mString \u001b[32mcmd\u001b[0m = \u001b[0m\"/add\"\n",
       "\u001b[0m\u001b[0m|    \u001b[1mString \u001b[32mgroup\u001b[0m = \u001b[0m\"com.github.javafaker\"\n",
       "\u001b[0m\u001b[0m|    \u001b[1mString \u001b[32martifact\u001b[0m = \u001b[0m\"javafaker\"\n",
       "\u001b[0m\u001b[0m|    \u001b[1mString \u001b[32mtypes\u001b[0m = \u001b[0m\"/types\"\n",
       "\u001b[0m\u001b[0m|    \u001b[1mFaker \u001b[32mfaker\u001b[0m = \u001b[0mcom.github.javafaker.Faker@179e9ed4\n",
       "\u001b[0m\u001b[0m|    \u001b[1mString \u001b[32m$3\u001b[0m = \u001b[0m\"Allan Kemmer\"\n",
       "\u001b[0m"
      ]
     },
     "execution_count": 17,
     "metadata": {},
     "output_type": "execute_result"
    }
   ],
   "source": [
    "%jshell /vars"
   ]
  },
  {
   "cell_type": "markdown",
   "metadata": {
    "tags": []
   },
   "source": [
    "or the types you defined in this session"
   ]
  },
  {
   "cell_type": "code",
   "execution_count": 18,
   "metadata": {
    "tags": []
   },
   "outputs": [
    {
     "data": {
      "text/plain": [
       "\u001b[0m\u001b[0m\u001b[1;30m|    record Complex\u001b[0m\u001b[0m\n"
      ]
     },
     "execution_count": 18,
     "metadata": {},
     "output_type": "execute_result"
    }
   ],
   "source": [
    "%jshell /types"
   ]
  },
  {
   "cell_type": "markdown",
   "metadata": {
    "tags": []
   },
   "source": [
    "## Execute bash commands\n",
    "You can execute bash scripting commands. Here we display the java version number."
   ]
  },
  {
   "cell_type": "code",
   "execution_count": 19,
   "metadata": {
    "tags": []
   },
   "outputs": [
    {
     "name": "stdout",
     "output_type": "stream",
     "text": [
      "openjdk 17.0.12 2024-07-16 LTS\n",
      "OpenJDK Runtime Environment Corretto-17.0.12.7.1 (build 17.0.12+7-LTS)\n",
      "OpenJDK 64-Bit Server VM Corretto-17.0.12.7.1 (build 17.0.12+7-LTS, mixed mode, sharing)\n"
     ]
    }
   ],
   "source": [
    "%%bash\n",
    "java --version"
   ]
  },
  {
   "cell_type": "markdown",
   "metadata": {
    "tags": []
   },
   "source": [
    "You can even define variables. In fact all the lines below cell magic marker are executed as a bash script."
   ]
  },
  {
   "cell_type": "code",
   "execution_count": 20,
   "metadata": {
    "tags": []
   },
   "outputs": [
    {
     "name": "stdout",
     "output_type": "stream",
     "text": [
      "Hello John\n"
     ]
    }
   ],
   "source": [
    "%%bash\n",
    "name=\"John\"\n",
    "echo \"Hello $name\""
   ]
  },
  {
   "cell_type": "markdown",
   "metadata": {
    "editable": true,
    "slideshow": {
     "slide_type": ""
    },
    "tags": []
   },
   "source": [
    "## Show an image for immediate inspection"
   ]
  },
  {
   "cell_type": "code",
   "execution_count": 21,
   "metadata": {
    "tags": []
   },
   "outputs": [
    {
     "data": {
      "image/png": "[encoded data removed]"
     },
     "execution_count": 21,
     "metadata": {},
     "output_type": "execute_result"
    }
   ],
   "source": [
    "%image https://www.google.com/logos/doodles/2024/paris-games-sailing-6753651837110529.4-law.gif"
   ]
  },
  {
   "cell_type": "markdown",
   "metadata": {
    "editable": true,
    "slideshow": {
     "slide_type": ""
    },
    "tags": []
   },
   "source": [
    "# Display data\n",
    "\n",
    "Jupyter notebooks uses outputs to display objects of various types. By default when an object is returned as the result of the last code operation, that result is displayed. \n",
    "\n",
    "The object which is displayed can be anything. If the object has a display handler registered, than that renderer is used to transform the object into a displayable content. If there is no registered display handler than the object is transformed into a string and that will be displayed.\n",
    "\n",
    "Previously we used magic commands to display an image. However for BufferedImages there is a registered handler and if you obtain an instance of a BufferedImage it will be displayed properly."
   ]
  },
  {
   "cell_type": "code",
   "execution_count": 22,
   "metadata": {
    "editable": true,
    "slideshow": {
     "slide_type": ""
    },
    "tags": []
   },
   "outputs": [
    {
     "data": {
      "image/png": "[encoded data removed]"
     },
     "metadata": {},
     "output_type": "display_data"
    },
    {
     "data": {
      "text/plain": [
       "d197f539-e6c9-4f4b-8c89-d9d88eb6522e"
      ]
     },
     "execution_count": 22,
     "metadata": {},
     "output_type": "execute_result"
    }
   ],
   "source": [
    "import javax.imageio.*;\n",
    "display(ImageIO.read(new URL(\"https://www.google.com/logos/doodles/2024/paris-games-sailing-6753651837110529.4-law.gif\")));"
   ]
  },
  {
   "cell_type": "markdown",
   "metadata": {},
   "source": [
    "Displayed data has a mime type. You can use that to describe how the object should be interpreted. For example we display a markdown snippet and we direct the output interpretation of the snippet through MIME type."
   ]
  },
  {
   "cell_type": "code",
   "execution_count": 23,
   "metadata": {
    "tags": []
   },
   "outputs": [
    {
     "data": {
      "text/markdown": [
       "Markdown *test* **snippet**:\n",
       "* bullet 1\n",
       "* bullet 2"
      ]
     },
     "metadata": {},
     "output_type": "display_data"
    },
    {
     "data": {
      "text/plain": [
       "6b0d5747-5d59-410b-9ca9-3fec1b6a5c78"
      ]
     },
     "execution_count": 23,
     "metadata": {},
     "output_type": "execute_result"
    }
   ],
   "source": [
    "display(\"text/markdown\", \"Markdown *test* **snippet**:\\n* bullet 1\\n* bullet 2\")"
   ]
  },
  {
   "cell_type": "markdown",
   "metadata": {
    "tags": []
   },
   "source": [
    "`display` command returns an id which identifies the piece of output from the notebook which handles the display. Notice that we captured the id of the display. This id can be used to update the same display with a different content. For example we can update the content of that display with a html snippet, using the MIME type for interpretation."
   ]
  },
  {
   "cell_type": "code",
   "execution_count": 24,
   "metadata": {
    "tags": []
   },
   "outputs": [
    {
     "data": {
      "text/html": [
       "Html <i>test</i> <b>snippet</b>:<p><ulist><li>bullet 1</li><li>bullet 2</li></ulist></p>"
      ]
     },
     "metadata": {},
     "output_type": "display_data"
    }
   ],
   "source": [
    "String id = display(\"text/markdown\", \"Markdown *test* **snippet**:\\n* bullet 1\\n* bullet 2\");"
   ]
  },
  {
   "cell_type": "code",
   "execution_count": 25,
   "metadata": {
    "tags": []
   },
   "outputs": [],
   "source": [
    "updateDisplay(id, \"text/html\", \n",
    "              \"Html <i>test</i> <b>snippet</b>:<p><ulist><li>bullet 1</li><li>bullet 2</li></ulist></p>\")"
   ]
  },
  {
   "cell_type": "markdown",
   "metadata": {},
   "source": [
    "A Java object is displayed as a String using *Objects.toString*. As such, if the object has an implementation of *toString*, that method will be called."
   ]
  },
  {
   "cell_type": "code",
   "execution_count": 26,
   "metadata": {},
   "outputs": [
    {
     "data": {
      "text/plain": [
       "Complex[a=10.0, b=3.141592653589793]"
      ]
     },
     "execution_count": 26,
     "metadata": {},
     "output_type": "execute_result"
    }
   ],
   "source": [
    "new Complex(10,Math.PI);"
   ]
  },
  {
   "cell_type": "markdown",
   "metadata": {},
   "source": [
    "The previous happens because record objects have by default an implementation of *toString* method. This is not true with other objects:"
   ]
  },
  {
   "cell_type": "code",
   "execution_count": 27,
   "metadata": {},
   "outputs": [
    {
     "data": {
      "text/plain": [
       "javax.imageio.ImageReadParam@57b0d896"
      ]
     },
     "execution_count": 27,
     "metadata": {},
     "output_type": "execute_result"
    }
   ],
   "source": [
    "new ImageReadParam()"
   ]
  },
  {
   "cell_type": "markdown",
   "metadata": {},
   "source": [
    "The previous outputs the standard way of Java to display objects, aka using the type and the numeric reference to that object."
   ]
  },
  {
   "cell_type": "markdown",
   "metadata": {
    "editable": true,
    "slideshow": {
     "slide_type": ""
    },
    "tags": []
   },
   "source": [
    "# Using graph libraries"
   ]
  },
  {
   "cell_type": "markdown",
   "metadata": {
    "editable": true,
    "slideshow": {
     "slide_type": ""
    },
    "tags": []
   },
   "source": [
    "If you want to analyze data you perhaps need a graphical library. There are some notable options. A simple one is to use *xchart* library."
   ]
  },
  {
   "cell_type": "code",
   "execution_count": 28,
   "metadata": {
    "editable": true,
    "slideshow": {
     "slide_type": ""
    },
    "tags": []
   },
   "outputs": [
    {
     "name": "stdout",
     "output_type": "stream",
     "text": [
      "Adding dependency \u001b[0m\u001b[1m\u001b[32morg.knowm.xchart:xchart:3.8.8\n",
      "\u001b[0mSolving dependencies\n",
      "Resolved artifacts count: 16\n",
      "Add to classpath: \u001b[0m\u001b[32m/home/ANT.AMAZON.COM/tutuianu/.local/share/jupyter/kernels/rapaio-jupyter-kernel/mima_cache/org/knowm/xchart/xchart/3.8.8/xchart-3.8.8.jar\u001b[0m\n",
      "\u001b[0mAdd to classpath: \u001b[0m\u001b[32m/home/ANT.AMAZON.COM/tutuianu/.local/share/jupyter/kernels/rapaio-jupyter-kernel/mima_cache/de/erichseifert/vectorgraphics2d/VectorGraphics2D/0.13/VectorGraphics2D-0.13.jar\u001b[0m\n",
      "\u001b[0mAdd to classpath: \u001b[0m\u001b[32m/home/ANT.AMAZON.COM/tutuianu/.local/share/jupyter/kernels/rapaio-jupyter-kernel/mima_cache/de/rototor/pdfbox/graphics2d/3.0.1/graphics2d-3.0.1.jar\u001b[0m\n",
      "\u001b[0mAdd to classpath: \u001b[0m\u001b[32m/home/ANT.AMAZON.COM/tutuianu/.local/share/jupyter/kernels/rapaio-jupyter-kernel/mima_cache/org/apache/pdfbox/pdfbox/3.0.1/pdfbox-3.0.1.jar\u001b[0m\n",
      "\u001b[0mAdd to classpath: \u001b[0m\u001b[32m/home/ANT.AMAZON.COM/tutuianu/.local/share/jupyter/kernels/rapaio-jupyter-kernel/mima_cache/org/apache/pdfbox/pdfbox-io/3.0.1/pdfbox-io-3.0.1.jar\u001b[0m\n",
      "\u001b[0mAdd to classpath: \u001b[0m\u001b[32m/home/ANT.AMAZON.COM/tutuianu/.local/share/jupyter/kernels/rapaio-jupyter-kernel/mima_cache/org/apache/pdfbox/fontbox/3.0.1/fontbox-3.0.1.jar\u001b[0m\n",
      "\u001b[0mAdd to classpath: \u001b[0m\u001b[32m/home/ANT.AMAZON.COM/tutuianu/.local/share/jupyter/kernels/rapaio-jupyter-kernel/mima_cache/commons-logging/commons-logging/1.2/commons-logging-1.2.jar\u001b[0m\n",
      "\u001b[0mAdd to classpath: \u001b[0m\u001b[32m/home/ANT.AMAZON.COM/tutuianu/.local/share/jupyter/kernels/rapaio-jupyter-kernel/mima_cache/org/junit/jupiter/junit-jupiter/5.10.1/junit-jupiter-5.10.1.jar\u001b[0m\n",
      "\u001b[0mAdd to classpath: \u001b[0m\u001b[32m/home/ANT.AMAZON.COM/tutuianu/.local/share/jupyter/kernels/rapaio-jupyter-kernel/mima_cache/org/junit/jupiter/junit-jupiter-api/5.10.1/junit-jupiter-api-5.10.1.jar\u001b[0m\n",
      "\u001b[0mAdd to classpath: \u001b[0m\u001b[32m/home/ANT.AMAZON.COM/tutuianu/.local/share/jupyter/kernels/rapaio-jupyter-kernel/mima_cache/org/opentest4j/opentest4j/1.3.0/opentest4j-1.3.0.jar\u001b[0m\n",
      "\u001b[0mAdd to classpath: \u001b[0m\u001b[32m/home/ANT.AMAZON.COM/tutuianu/.local/share/jupyter/kernels/rapaio-jupyter-kernel/mima_cache/org/junit/platform/junit-platform-commons/1.10.1/junit-platform-commons-1.10.1.jar\u001b[0m\n",
      "\u001b[0mAdd to classpath: \u001b[0m\u001b[32m/home/ANT.AMAZON.COM/tutuianu/.local/share/jupyter/kernels/rapaio-jupyter-kernel/mima_cache/org/apiguardian/apiguardian-api/1.1.2/apiguardian-api-1.1.2.jar\u001b[0m\n",
      "\u001b[0mAdd to classpath: \u001b[0m\u001b[32m/home/ANT.AMAZON.COM/tutuianu/.local/share/jupyter/kernels/rapaio-jupyter-kernel/mima_cache/org/junit/jupiter/junit-jupiter-params/5.10.1/junit-jupiter-params-5.10.1.jar\u001b[0m\n",
      "\u001b[0mAdd to classpath: \u001b[0m\u001b[32m/home/ANT.AMAZON.COM/tutuianu/.local/share/jupyter/kernels/rapaio-jupyter-kernel/mima_cache/org/junit/jupiter/junit-jupiter-engine/5.10.1/junit-jupiter-engine-5.10.1.jar\u001b[0m\n",
      "\u001b[0mAdd to classpath: \u001b[0m\u001b[32m/home/ANT.AMAZON.COM/tutuianu/.local/share/jupyter/kernels/rapaio-jupyter-kernel/mima_cache/org/junit/platform/junit-platform-engine/1.10.1/junit-platform-engine-1.10.1.jar\u001b[0m\n",
      "\u001b[0mAdd to classpath: \u001b[0m\u001b[32m/home/ANT.AMAZON.COM/tutuianu/.local/share/jupyter/kernels/rapaio-jupyter-kernel/mima_cache/com/madgag/animated-gif-lib/1.4/animated-gif-lib-1.4.jar\u001b[0m\n",
      "\u001b[0m"
     ]
    }
   ],
   "source": [
    "%dependency /add org.knowm.xchart:xchart:3.8.8\n",
    "%dependency /resolve\n"
   ]
  },
  {
   "cell_type": "code",
   "execution_count": 29,
   "metadata": {
    "editable": true,
    "slideshow": {
     "slide_type": ""
    },
    "tags": []
   },
   "outputs": [
    {
     "data": {
      "image/png": "[encoded data removed]"
     },
     "execution_count": 29,
     "metadata": {},
     "output_type": "execute_result"
    }
   ],
   "source": [
    "import org.knowm.xchart.*;\n",
    "\n",
    "var x = new double[] {1,2,3,4,5,6};\n",
    "var y = new double[] {3,2,3,1,4,6};\n",
    "var chart = QuickChart.getChart(\"Test\", \"x\", \"y\", \"f\", x, y);\n",
    "BitmapEncoder.getBufferedImage(chart);"
   ]
  },
  {
   "cell_type": "markdown",
   "metadata": {
    "editable": true,
    "slideshow": {
     "slide_type": ""
    },
    "tags": []
   },
   "source": [
    "Other options include *JFreeChart*, *chart4j* and others."
   ]
  },
  {
   "cell_type": "markdown",
   "metadata": {
    "editable": true,
    "slideshow": {
     "slide_type": ""
    },
    "tags": []
   },
   "source": [
    "The main reason why I contribute to this project is to have a easy to use kernel to play with my statistics and machine learning library: *rapaio*. This library is also an option for experimenting with graphical content on data analysis. Below is an example:"
   ]
  },
  {
   "cell_type": "code",
   "execution_count": null,
   "metadata": {
    "editable": true,
    "slideshow": {
     "slide_type": ""
    },
    "tags": []
   },
   "outputs": [],
   "source": []
  }
 ],
 "metadata": {
  "kernelspec": {
   "display_name": "Java (rjk 2.1.1 default)",
   "language": "java",
   "name": "rapaio-jupyter-kernel"
  },
  "language_info": {
   "codemirror_mode": "java",
   "file_extension": ".jshell",
   "mimetype": "text/x-java-source",
   "name": "java",
   "nbconvert_exporter": "script",
   "pygments_lexer": "java",
   "version": "17.0.12+7-LTS"
  }
 },
 "nbformat": 4,
 "nbformat_minor": 4
}
